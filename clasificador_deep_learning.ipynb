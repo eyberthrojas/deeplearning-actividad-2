{
  "nbformat": 4,
  "nbformat_minor": 0,
  "metadata": {
    "colab": {
      "provenance": []
    },
    "kernelspec": {
      "name": "python3",
      "display_name": "Python 3"
    },
    "language_info": {
      "name": "python"
    }
  },
  "cells": [
    {
      "cell_type": "markdown",
      "source": [
        "## Actividad 2\n",
        "En la presente actividad vamos a entrenar un modelo basado en redes neuronales utilizando tensorflow y keras\n",
        "\n"
      ],
      "metadata": {
        "id": "IRtWdJL_yZFO"
      }
    },
    {
      "cell_type": "markdown",
      "source": [
        "### Librerias a importar"
      ],
      "metadata": {
        "id": "s0GXAxkByua0"
      }
    },
    {
      "cell_type": "code",
      "execution_count": 2,
      "metadata": {
        "id": "j8G6N38tdUQn"
      },
      "outputs": [],
      "source": [
        "import tensorflow as tf\n",
        "import numpy as np\n",
        "import pandas as pd\n",
        "\n",
        "from sklearn.model_selection import train_test_split\n",
        "from sklearn.metrics import classification_report\n",
        "\n",
        "from tensorflow.keras.models import Sequential\n",
        "from tensorflow.keras.layers import Dense, InputLayer\n",
        "\n",
        "import matplotlib.pyplot as plt"
      ]
    },
    {
      "cell_type": "markdown",
      "source": [
        "## Carga del dataset\n",
        "\n"
      ],
      "metadata": {
        "id": "eYw-a1Agy2oY"
      }
    },
    {
      "cell_type": "code",
      "source": [
        "path = 'https://raw.githubusercontent.com/eyberthrojas/deeplearning-actividad-2/main/poker_dataset.csv'\n",
        "df = pd.read_csv(path)\n",
        "df.sample(5, random_state=10)"
      ],
      "metadata": {
        "id": "ad43-e0pkNT3"
      },
      "execution_count": null,
      "outputs": []
    },
    {
      "cell_type": "markdown",
      "source": [
        "Vamos a construir un modelo que infiera la figura en una mano de poker, es decir, en una mano de poker tenemos 5 cartas, el modelo debe decir a que figura corresponde, ej: si en una mano tenemos 3 de picas, 3 de corazones, 3 de treboles, 10 de picas y 8 de diamantes, la figura resultante es un trio \n",
        "\n",
        "En el dataset cada carta tiene SUIT_n y RANK_n se refieren al color y al valor de la carta n, la columna Figura corresponde a la figura que hay en el juego de cartas, esta columna \"Figura\" es el Label o etiqueta para entrenar el modelo supervisado. "
      ],
      "metadata": {
        "id": "_Dfj_14fy-xp"
      }
    },
    {
      "cell_type": "code",
      "source": [
        "# Colores\n",
        "list(df['SUIT_1'].unique())"
      ],
      "metadata": {
        "id": "IuAmg_nBuONX"
      },
      "execution_count": null,
      "outputs": []
    },
    {
      "cell_type": "code",
      "source": [
        "# Valores\n",
        "list(df['RANK_1'].unique())"
      ],
      "metadata": {
        "id": "bzdNSRzilqgV"
      },
      "execution_count": null,
      "outputs": []
    },
    {
      "cell_type": "code",
      "source": [
        "# Figuras\n",
        "list(df['Figura'].unique())"
      ],
      "metadata": {
        "id": "oChwnU5H1UCT"
      },
      "execution_count": null,
      "outputs": []
    },
    {
      "cell_type": "code",
      "source": [
        "# Distribución de datos respecto a la figura\n",
        "df['Figura'].value_counts()"
      ],
      "metadata": {
        "id": "_QA2TeHd1gaV"
      },
      "execution_count": null,
      "outputs": []
    },
    {
      "cell_type": "code",
      "source": [
        "dataset = df.copy(deep=True)"
      ],
      "metadata": {
        "id": "IbP5wiWBDY3x"
      },
      "execution_count": 9,
      "outputs": []
    },
    {
      "cell_type": "markdown",
      "source": [
        "### Preprocesamiento, \n",
        "Antes de empezar a entrenar, se requiere codificar las variables y el Label de manera numérica, en este caso es sencillo asignarle un codigo al color, al valor y a la Figura si necesidad de utilizar algún encoder:"
      ],
      "metadata": {
        "id": "M2s6tAb76-Us"
      }
    },
    {
      "cell_type": "code",
      "source": [
        "figura = {\n",
        "    'no_hay_figura': 0,\n",
        "    'pareja': 1,\n",
        "    'doble_pareja': 2,\n",
        "    'trio': 3,\n",
        "    'escalera': 4,\n",
        "    'color': 5,\n",
        "    'full': 6,\n",
        "    'poker': 7,\n",
        "    'escalera_color': 8,\n",
        "    'escalera_real': 9    \n",
        "}\n",
        "color = {\n",
        "    'corazones': 0,\n",
        "    'diamantes': 1,\n",
        "    'picas': 2,\n",
        "    'treboles': 3,\n",
        "}\n",
        "numero = {\n",
        "    '1': 1, '2': 2, '3': 3, '4': 4, '5': 5, '6': 6, '7': 7, '8': 8, '9': 9, '10': 10, 'J': 11, 'Q': 12, 'K': 13\n",
        "}"
      ],
      "metadata": {
        "id": "hBTtOV1W11ms"
      },
      "execution_count": 10,
      "outputs": []
    },
    {
      "cell_type": "markdown",
      "source": [
        "### Codificación variables de entrada (SUIT_n, RANK_n)"
      ],
      "metadata": {
        "id": "0-_I5iroEgLO"
      }
    },
    {
      "cell_type": "code",
      "source": [
        "for card in range(1,6):\n",
        "  dataset['SUIT_'+str(card)] = dataset['SUIT_'+str(card)].apply(lambda x:color[x])\n",
        "  dataset['RANK_'+str(card)] = dataset['RANK_'+str(card)].apply(lambda x:numero[x])"
      ],
      "metadata": {
        "id": "DJGM57S011pu"
      },
      "execution_count": 11,
      "outputs": []
    },
    {
      "cell_type": "markdown",
      "source": [
        "### Codificación Label (Figura)"
      ],
      "metadata": {
        "id": "deilpo_WFsqc"
      }
    },
    {
      "cell_type": "code",
      "source": [
        "dataset['Figura'] = dataset['Figura'].apply(lambda x:figura[x])"
      ],
      "metadata": {
        "id": "7fbhGRWA11sw"
      },
      "execution_count": 12,
      "outputs": []
    },
    {
      "cell_type": "code",
      "source": [
        "dataset.sample(5, random_state=10)"
      ],
      "metadata": {
        "id": "ImZSd3e211xr"
      },
      "execution_count": null,
      "outputs": []
    },
    {
      "cell_type": "markdown",
      "source": [
        "## División de datos para entrenamiento y prueba"
      ],
      "metadata": {
        "id": "7wkV074oGGof"
      }
    },
    {
      "cell_type": "code",
      "source": [
        "df_train, df_test, _, _ = train_test_split(dataset, dataset['Figura'], test_size=0.2, stratify=dataset['Figura'], random_state=0)"
      ],
      "metadata": {
        "id": "FMobKYUW110K"
      },
      "execution_count": 14,
      "outputs": []
    },
    {
      "cell_type": "code",
      "source": [
        "features = [\n",
        "    'SUIT_1', 'RANK_1', 'SUIT_2', 'RANK_2', 'SUIT_3', 'RANK_3', \n",
        "    'SUIT_4', 'RANK_4', 'SUIT_5', 'RANK_5'\n",
        "]\n",
        "X_train = df_train[features].to_numpy()\n",
        "y_train = df_train['Figura'].to_numpy()\n",
        "X_test = df_test[features].to_numpy()\n",
        "y_test = df_test['Figura'].to_numpy()"
      ],
      "metadata": {
        "id": "t_zeCPuS112c"
      },
      "execution_count": 15,
      "outputs": []
    },
    {
      "cell_type": "code",
      "source": [
        "print(f'Tamaño X_train = {X_train.shape}')\n",
        "print(f'Tamaño X_test = {X_test.shape}')"
      ],
      "metadata": {
        "id": "uZue1F0G117w"
      },
      "execution_count": null,
      "outputs": []
    },
    {
      "cell_type": "markdown",
      "source": [
        "Ya estn los datos, ahora a construir el modelo que vamos a entrenar"
      ],
      "metadata": {
        "id": "wCDGBBysJ4AD"
      }
    },
    {
      "cell_type": "markdown",
      "source": [
        "## Definición de hyperparámetros\n"
      ],
      "metadata": {
        "id": "cEmEd4AbcxZp"
      }
    },
    {
      "cell_type": "code",
      "source": [
        "# Número de caracteristicas\n",
        "n_features = len(features)\n",
        "# Número de clases\n",
        "n_classes = len(np.unique(y_train))\n",
        "# Numero de neuronas por capa\n",
        "neurons = [128, 256, n_classes]\n",
        "# unciones de activación para la respectiva capa\n",
        "activations = ['tanh', 'relu', 'softmax']\n",
        "# learning rate\n",
        "learning_rate=0.001\n",
        "# Número de épocas\n",
        "epochs=200"
      ],
      "metadata": {
        "id": "SGYgokW0cwt-"
      },
      "execution_count": 17,
      "outputs": []
    },
    {
      "cell_type": "markdown",
      "source": [
        "## Construcción del modelo"
      ],
      "metadata": {
        "id": "8KWbMAruJtzy"
      }
    },
    {
      "cell_type": "code",
      "source": [
        "model = Sequential()\n",
        "model.add(InputLayer((n_features,)))\n",
        "for neuron, activation in zip(neurons, activations):\n",
        "  model.add(Dense(neuron, activation=activation))"
      ],
      "metadata": {
        "id": "OP81HxNlJ-ie"
      },
      "execution_count": 18,
      "outputs": []
    },
    {
      "cell_type": "code",
      "source": [
        "model.summary()"
      ],
      "metadata": {
        "id": "40lhd-ZwOCCC"
      },
      "execution_count": null,
      "outputs": []
    },
    {
      "cell_type": "markdown",
      "source": [
        "## Función de costo\n",
        "Cómo es un clasiicador multiclase, utilizamos sparce categorical cross entropy "
      ],
      "metadata": {
        "id": "XPuxwlC7Yv60"
      }
    },
    {
      "cell_type": "code",
      "source": [
        "# Función de costo \n",
        "loss = tf.keras.losses.SparseCategoricalCrossentropy(from_logits=False)\n",
        "# Optimizer\n",
        "optimizer = tf.keras.optimizers.Adam(learning_rate=learning_rate)\n",
        "model.compile(optimizer=optimizer, loss=loss, metrics=[tf.keras.metrics.SparseCategoricalAccuracy()])\n"
      ],
      "metadata": {
        "id": "PMb1yzoFYD89"
      },
      "execution_count": 20,
      "outputs": []
    },
    {
      "cell_type": "markdown",
      "source": [
        "### Entrenando el modelo"
      ],
      "metadata": {
        "id": "6QfGFRHhdoBL"
      }
    },
    {
      "cell_type": "code",
      "source": [
        "history = model.fit(x=X_train, y=y_train, batch_size=32, epochs=epochs, validation_data=(X_test, y_test), verbose=False)"
      ],
      "metadata": {
        "id": "ZqTBz2tYdj8R"
      },
      "execution_count": 21,
      "outputs": []
    },
    {
      "cell_type": "code",
      "source": [
        "history.history.keys()"
      ],
      "metadata": {
        "id": "Xh5W6izreQJl"
      },
      "execution_count": null,
      "outputs": []
    },
    {
      "cell_type": "code",
      "source": [
        "epochs_v = range(1,epochs+1)"
      ],
      "metadata": {
        "id": "375LrZ3sfX9T"
      },
      "execution_count": 23,
      "outputs": []
    },
    {
      "cell_type": "markdown",
      "source": [
        "## Grafica de perdida respecto a las epocas,"
      ],
      "metadata": {
        "id": "0ws5hGO47Q94"
      }
    },
    {
      "cell_type": "code",
      "source": [
        "plt.plot(epochs_v, history.history['loss'], epochs_v, history.history['val_loss'])\n",
        "plt.legend(['train_loss', 'test_loss'])"
      ],
      "metadata": {
        "id": "gAgIeZXyfgxy"
      },
      "execution_count": null,
      "outputs": []
    },
    {
      "cell_type": "code",
      "source": [
        "plt.plot(epochs_v, history.history['sparse_categorical_accuracy'], epochs_v, history.history['val_sparse_categorical_accuracy'])\n",
        "plt.legend(['train_accuracy', 'test_accuracy'])"
      ],
      "metadata": {
        "id": "hK_46PDkPSuQ"
      },
      "execution_count": null,
      "outputs": []
    },
    {
      "cell_type": "markdown",
      "source": [
        "Reporte de cada clase"
      ],
      "metadata": {
        "id": "jAdH9zZ-RA7A"
      }
    },
    {
      "cell_type": "code",
      "source": [
        "probs = model.predict(X_test)"
      ],
      "metadata": {
        "id": "Mw0uUpSBhnU5"
      },
      "execution_count": null,
      "outputs": []
    },
    {
      "cell_type": "code",
      "source": [
        "preds = np.argmax(probs, axis=1)"
      ],
      "metadata": {
        "id": "-J2Zlam7CTYn"
      },
      "execution_count": 26,
      "outputs": []
    },
    {
      "cell_type": "markdown",
      "source": [
        "El reporte de clasificacion nos entrega las metricas totales de cada clase en terminos de precision, recall, f1-score y accuracy. La columna support se refiere a la cantidad de datos verdaderos de cada clase"
      ],
      "metadata": {
        "id": "8nj-DvhESzYT"
      }
    },
    {
      "cell_type": "code",
      "source": [
        "print(classification_report(y_test, preds, zero_division=0))"
      ],
      "metadata": {
        "id": "C71_UIa7CdZY"
      },
      "execution_count": null,
      "outputs": []
    },
    {
      "cell_type": "code",
      "source": [],
      "metadata": {
        "id": "9yOYObx9CefW"
      },
      "execution_count": null,
      "outputs": []
    }
  ]
}